{
 "cells": [
  {
   "cell_type": "code",
   "execution_count": null,
   "metadata": {
    "colab": {
     "base_uri": "https://localhost:8080/"
    },
    "id": "1yacdsiPZ5FY",
    "outputId": "1cde631a-f476-4aa3-c370-bfc53d22e6a6"
   },
   "outputs": [],
   "source": [
    "#from google.colab import drive  \n",
    "#drive.mount('/content/drive')"
   ]
  },
  {
   "cell_type": "code",
   "execution_count": null,
   "metadata": {
    "colab": {
     "base_uri": "https://localhost:8080/"
    },
    "id": "Zc5boY28LxDZ",
    "outputId": "21fdac85-5d73-4711-fce1-3f67f5134ea6"
   },
   "outputs": [],
   "source": [
    "# Library to suppress warnings or deprecation notes \n",
    "import warnings\n",
    "warnings.filterwarnings('ignore')\n",
    "\n",
    "# Libraries to help with reading and manipulating data\n",
    "import numpy as np\n",
    "import pandas as pd\n",
    "\n",
    "# Libraries to help with data visualization\n",
    "import matplotlib.pyplot as plt\n",
    "%matplotlib inline\n",
    "import seaborn as sns\n",
    "\n",
    "# Library to split data \n",
    "from sklearn.model_selection import train_test_split\n",
    "\n",
    "# Libraries to import decision tree classifier and different ensemble classifiers\n",
    "from sklearn.ensemble import BaggingClassifier\n",
    "from sklearn.ensemble import RandomForestClassifier\n",
    "from sklearn.tree import DecisionTreeClassifier\n",
    "from sklearn import tree\n",
    "\n",
    "# Libtune to tune model, get different metric scores\n",
    "from sklearn import metrics\n",
    "from sklearn.metrics import  classification_report, accuracy_score, precision_score, recall_score,f1_score\n",
    "from sklearn.model_selection import GridSearchCV\n",
    "from sklearn.metrics import confusion_matrix,ConfusionMatrixDisplay,plot_confusion_matrix #to plot confusion matric\n",
    "plt.style.use('ggplot')\n",
    "print('Load Libraries-Done')"
   ]
  },
  {
   "cell_type": "code",
   "execution_count": null,
   "metadata": {
    "colab": {
     "base_uri": "https://localhost:8080/"
    },
    "id": "GRcmpNQZAwLp",
    "outputId": "3e8eebed-5537-40ca-c5d7-36bd12ef92e5"
   },
   "outputs": [],
   "source": [
    "#!pip install squarify"
   ]
  },
  {
   "cell_type": "code",
   "execution_count": null,
   "metadata": {
    "colab": {
     "base_uri": "https://localhost:8080/",
     "height": 17
    },
    "id": "rnO-_N5jmb0i",
    "outputId": "eba58f2f-2ab5-4838-8278-5c773a96bbb4"
   },
   "outputs": [],
   "source": [
    "# Python libraries\n",
    "# Classic,data manipulation and linear algebra\n",
    "import pandas as pd\n",
    "import numpy as np\n",
    "\n",
    "# Plots\n",
    "import seaborn as sns\n",
    "import matplotlib.pyplot as plt\n",
    "%matplotlib inline\n",
    "import plotly.offline as py\n",
    "import plotly.graph_objs as go\n",
    "from plotly.offline import download_plotlyjs, init_notebook_mode, plot, iplot\n",
    "import plotly.tools as tls\n",
    "import plotly.figure_factory as ff\n",
    "py.init_notebook_mode(connected=True)\n",
    "import squarify\n",
    "\n",
    "# Data processing, metrics and modeling\n",
    "from sklearn.preprocessing import StandardScaler, LabelEncoder\n",
    "from sklearn.model_selection import GridSearchCV, cross_val_score, train_test_split, GridSearchCV, RandomizedSearchCV\n",
    "from sklearn.metrics import precision_score, recall_score, confusion_matrix,  roc_curve, precision_recall_curve, accuracy_score, roc_auc_score\n",
    "import lightgbm as lgbm\n",
    "from sklearn.ensemble import VotingClassifier\n",
    "from sklearn.neighbors import KNeighborsClassifier\n",
    "from sklearn.metrics import roc_curve,auc\n",
    "from sklearn.model_selection import KFold\n",
    "from sklearn.model_selection import cross_val_predict\n",
    "from yellowbrick.classifier import DiscriminationThreshold\n",
    "\n",
    "# Stats\n",
    "import scipy.stats as ss\n",
    "from scipy import interp\n",
    "from scipy.stats import randint as sp_randint\n",
    "from scipy.stats import uniform as sp_uniform\n",
    "\n",
    "# Time\n",
    "from contextlib import contextmanager\n",
    "@contextmanager\n",
    "def timer(title):\n",
    "    t0 = time.time()\n",
    "    yield\n",
    "    print(\"{} - done in {:.0f}s\".format(title, time.time() - t0))\n",
    "\n",
    "#ignore warning messages \n",
    "import warnings\n",
    "warnings.filterwarnings('ignore') \n"
   ]
  },
  {
   "cell_type": "code",
   "execution_count": null,
   "metadata": {
    "colab": {
     "base_uri": "https://localhost:8080/"
    },
    "id": "H-vKfANlZ0rU",
    "outputId": "ef24a77a-5996-402a-9b35-e65dd0e8859b"
   },
   "outputs": [],
   "source": [
    "pip install catboost"
   ]
  },
  {
   "cell_type": "code",
   "execution_count": null,
   "metadata": {
    "colab": {
     "base_uri": "https://localhost:8080/",
     "height": 328
    },
    "id": "_VGrKIymL8Jf",
    "outputId": "7c210c1a-6fde-41f5-d851-7f84431187c2"
   },
   "outputs": [],
   "source": [
    "train = pd.read_csv('metadata.csv')  # Reading Data\n",
    "data=train.copy()\n"
   ]
  },
  {
   "cell_type": "code",
   "execution_count": null,
   "metadata": {
    "id": "3nZjw9hnr18_"
   },
   "outputs": [],
   "source": [
    "data"
   ]
  },
  {
   "cell_type": "code",
   "execution_count": null,
   "metadata": {
    "id": "iVbP4SlMTlnH"
   },
   "outputs": [],
   "source": [
    "print(data.head())\n",
    "print(data.info())\n",
    "print(data.shape)\n",
    "data=data.drop('volumeFilename',axis=1)\n",
    "outcome_values = data['aclDiagnosis'].value_counts()\n",
    "outcome_values.sort_index()\n",
    "plt.pie(outcome_values.values, labels=['Healthy', 'Partial', \"Full Ruptured\"], autopct='%1.1f%%')\n",
    "plt.title('Three ACL classes ratio')\n",
    "plt.show()"
   ]
  },
  {
   "cell_type": "code",
   "execution_count": null,
   "metadata": {},
   "outputs": [],
   "source": [
    "# 3 datasets\n",
    "H = data[(data['aclDiagnosis'] == 0)]\n",
    "P = data[(data['aclDiagnosis'] == 1)]\n",
    "R = data[(data['aclDiagnosis'] == 2)]\n",
    "\n",
    "#------------COUNT-----------------------\n",
    "def target_count():\n",
    "    trace = go.Bar( x = data['aclDiagnosis'].value_counts().values.tolist(), \n",
    "                    y = ['Healthy','Partial', 'Ruptured' ], \n",
    "                    orientation = 'h', \n",
    "                    text=data['aclDiagnosis'].value_counts().values.tolist(), \n",
    "                    textfont=dict(size=15),\n",
    "                    textposition = 'auto',\n",
    "                    opacity = 0.8,marker=dict(\n",
    "                    color=['lightskyblue', 'gold'],\n",
    "                    line=dict(color='#000000',width=1.5)))\n",
    "\n",
    "    layout = dict(title =  'Count of ACL tears')\n",
    "\n",
    "    fig = dict(data = [trace], layout=layout)\n",
    "    py.iplot(fig)"
   ]
  },
  {
   "cell_type": "code",
   "execution_count": null,
   "metadata": {},
   "outputs": [],
   "source": [
    "#------------PERCENTAGE-------------------\n",
    "def target_percent():\n",
    "    trace = go.Pie(labels = ['Healthy','Partial', 'Ruptured' ], values = data['aclDiagnosis'].value_counts(), \n",
    "                   textfont=dict(size=15), opacity = 0.8,\n",
    "                   marker=dict(colors=['lightskyblue', 'gold'], \n",
    "                               line=dict(color='#000000', width=1.5)))\n",
    "\n",
    "\n",
    "    layout = dict(title =  'Distribution of ACL tears')\n",
    "\n",
    "    fig = dict(data = [trace], layout=layout)\n",
    "    py.iplot(fig)"
   ]
  },
  {
   "cell_type": "code",
   "execution_count": null,
   "metadata": {},
   "outputs": [],
   "source": [
    "target_count()\n",
    "target_percent()"
   ]
  },
  {
   "cell_type": "code",
   "execution_count": null,
   "metadata": {
    "colab": {
     "base_uri": "https://localhost:8080/",
     "height": 1000
    },
    "id": "7kJ0cWmjMmz4",
    "outputId": "45231f45-e6c1-47ce-fa3f-d0154f4c873e"
   },
   "outputs": [],
   "source": [
    "#print(train.describe().T)\n",
    "#plt.pie(outcome_values.values, labels=['Healthy', 'Partial', \"Full Ruptured\"], autopct='%1.1f%%')\n",
    "#plt.title('Three ACL classes ratio')\n",
    "#plt.show()"
   ]
  },
  {
   "cell_type": "code",
   "execution_count": null,
   "metadata": {
    "colab": {
     "base_uri": "https://localhost:8080/"
    },
    "id": "2RfYAb4fab9H",
    "outputId": "c2ab3327-9b54-400b-83bb-0b2960fe2d66"
   },
   "outputs": [],
   "source": [
    "print (\"#\"*40,\"\\n\",\"Features : \\n\\n\", data.columns.tolist()) #get name of columns/features\n",
    "print (\"#\"*40,\"\\nMissing values :\\n\\n\", data.isnull().sum().sort_values(ascending=False))\n",
    "print (\"#\"*40,\"\\nUnique values :  \\n\\n\", data.nunique())  #  count of unique values"
   ]
  },
  {
   "cell_type": "code",
   "execution_count": null,
   "metadata": {
    "colab": {
     "base_uri": "https://localhost:8080/",
     "height": 361
    },
    "id": "ncX13OUAmcwb",
    "outputId": "24452921-a7a1-42af-d506-e73165db908b"
   },
   "outputs": [],
   "source": [
    "import matplotlib.pyplot as plt\n",
    "fig = plt.figure(figsize = (8,5))\n",
    "data.aclDiagnosis.value_counts(normalize = True).plot(kind='bar', color= ['skyblue','navy',\"red\"], alpha = 0.9, rot=0)\n",
    "plt.title('healthy(0), partial (1) and full ruptured(2) in the Imbalanced Dataset')\n",
    "plt.show()"
   ]
  },
  {
   "cell_type": "code",
   "execution_count": null,
   "metadata": {
    "colab": {
     "base_uri": "https://localhost:8080/",
     "height": 361
    },
    "id": "Zt0v13GFn5ha",
    "outputId": "1dc49932-ad79-4ecb-962e-f03ac0b710dc"
   },
   "outputs": [],
   "source": [
    "from sklearn.utils import resample\n",
    "\n",
    "no = data[data.aclDiagnosis == 0]\n",
    "yes1 = data[data.aclDiagnosis == 1]\n",
    "yes2 = data[data.aclDiagnosis == 2]\n",
    "yes_oversampled1 = resample(yes1, replace=True, n_samples=len(no), random_state=123)\n",
    "yes_oversampled2 = resample(yes2, replace=True, n_samples=len(no), random_state=123)\n",
    "oversampled = pd.concat([no, yes_oversampled1,yes_oversampled2 ])\n",
    "\n",
    "fig = plt.figure(figsize = (8,5))\n",
    "oversampled.aclDiagnosis.value_counts(normalize = True).plot(kind='bar', color= ['skyblue','navy', \"red\"], alpha = 0.9, rot=0)\n",
    "plt.title('Healthy(0), Partial (1) and Full ruptured(2) after Oversampling (Balanced Dataset)')\n",
    "plt.show()"
   ]
  },
  {
   "cell_type": "code",
   "execution_count": null,
   "metadata": {
    "colab": {
     "base_uri": "https://localhost:8080/"
    },
    "id": "9dyQUjO8S6h7",
    "outputId": "1f682a1d-f5fb-4a0d-93e7-74c8b518ed40"
   },
   "outputs": [],
   "source": [
    "print (\"#\"*40,\"\\n\",\"Features : \\n\\n\", oversampled.columns.tolist()) #get name of columns/features\n",
    "print (\"#\"*40,\"\\nMissing values :\\n\\n\", oversampled.isnull().sum().sort_values(ascending=False))\n",
    "print (\"#\"*40,\"\\nUnique values :  \\n\\n\", oversampled.nunique())  #  count of unique values"
   ]
  },
  {
   "cell_type": "code",
   "execution_count": null,
   "metadata": {
    "colab": {
     "base_uri": "https://localhost:8080/",
     "height": 363
    },
    "id": "y3nDyH6eT2cj",
    "outputId": "648c22e8-68ae-480f-82cb-7fe9dd4e9d6b"
   },
   "outputs": [],
   "source": [
    "oversampled.describe().T"
   ]
  },
  {
   "cell_type": "code",
   "execution_count": null,
   "metadata": {
    "id": "D0TOdxDVRx_g"
   },
   "outputs": [],
   "source": [
    "# 3 datasets\n",
    "H = oversampled[(oversampled['aclDiagnosis'] == 0)]\n",
    "P = oversampled[(oversampled['aclDiagnosis'] == 1)]\n",
    "R = oversampled[(oversampled['aclDiagnosis'] == 2)]\n",
    "\n",
    "#------------COUNT-----------------------\n",
    "def target_count():\n",
    "    trace = go.Bar( x = oversampled['aclDiagnosis'].value_counts().values.tolist(), \n",
    "                    y = ['Healthy','Partial', 'Ruptured' ], \n",
    "                    orientation = 'h', \n",
    "                    text=oversampled['aclDiagnosis'].value_counts().values.tolist(), \n",
    "                    textfont=dict(size=15),\n",
    "                    textposition = 'auto',\n",
    "                    opacity = 0.8,marker=dict(\n",
    "                    color=['lightskyblue', 'gold'],\n",
    "                    line=dict(color='#000000',width=1.5)))\n",
    "\n",
    "    layout = dict(title =  'Count of ACL tears')\n",
    "\n",
    "    fig = dict(data = [trace], layout=layout)\n",
    "    py.iplot(fig)"
   ]
  },
  {
   "cell_type": "code",
   "execution_count": null,
   "metadata": {
    "id": "DIQV5cN4bFgP"
   },
   "outputs": [],
   "source": [
    "#------------PERCENTAGE-------------------\n",
    "def target_percent():\n",
    "    trace = go.Pie(labels = ['Healthy','Partial', 'Ruptured' ], values = oversampled['aclDiagnosis'].value_counts(), \n",
    "                   textfont=dict(size=15), opacity = 0.8,\n",
    "                   marker=dict(colors=['lightskyblue', 'gold'], \n",
    "                               line=dict(color='#000000', width=1.5)))\n",
    "\n",
    "\n",
    "    layout = dict(title =  'Distribution of ACL tears')\n",
    "\n",
    "    fig = dict(data = [trace], layout=layout)\n",
    "    py.iplot(fig)"
   ]
  },
  {
   "cell_type": "code",
   "execution_count": null,
   "metadata": {
    "colab": {
     "base_uri": "https://localhost:8080/",
     "height": 1000
    },
    "id": "hrRDdU9kbFys",
    "outputId": "adf08332-9a74-4e91-c6a8-8c8e5d8d7f36"
   },
   "outputs": [],
   "source": [
    "target_count()\n",
    "target_percent()"
   ]
  },
  {
   "cell_type": "code",
   "execution_count": null,
   "metadata": {
    "colab": {
     "base_uri": "https://localhost:8080/",
     "height": 836
    },
    "id": "95d7Hy2jGM9g",
    "outputId": "b03491c3-8789-47d1-9941-1f3c2ffced06"
   },
   "outputs": [],
   "source": [
    "fig, axs = plt.subplots(3, 3, figsize=(17,13))\n",
    "axs = axs.flatten()\n",
    "sns.distplot(oversampled['examId'],rug=True,color='#38b000',ax=axs[0])\n",
    "sns.distplot(oversampled['seriesNo'],rug=True,color='#FF9933',ax=axs[1])\n",
    "sns.distplot(oversampled['kneeLR'],rug=True,color='#522500',ax=axs[2])\n",
    "sns.distplot(oversampled['roiX'],rug=True,color='#66b3ff',ax=axs[3])\n",
    "sns.distplot(oversampled['roiY'],rug=True,color='#FF6699',ax=axs[4])\n",
    "sns.distplot(oversampled['roiZ'],rug=True,color='#e76f51',ax=axs[4])\n",
    "sns.distplot(oversampled['roiHeight'],rug=True,color='#03045e',ax=axs[5])\n",
    "sns.distplot(oversampled['roiWidth'],rug=True,color='#333533',ax=axs[6])\n",
    "sns.distplot(oversampled['roiDepth'],rug=True,color='#333578',ax=axs[7])\n",
    "sns.distplot(oversampled['aclDiagnosis'],rug=True,color='#666788',ax=axs[8])\n",
    "plt.show()"
   ]
  },
  {
   "cell_type": "code",
   "execution_count": null,
   "metadata": {
    "id": "3oHf3jhPUMGN"
   },
   "outputs": [],
   "source": [
    "def dist_box(oversampled):\n",
    " # function plots a combined graph for univariate analysis of continous variable \n",
    " #to check spread, central tendency , dispersion and outliers  \n",
    "    Name=oversampled.name.upper()\n",
    "    fig,(ax_box,ax_dis)  =plt.subplots(nrows=2,sharex=True,gridspec_kw = {\"height_ratios\": (.25, .75)},figsize=(8, 5))\n",
    "    mean=oversampled.mean()\n",
    "    median=oversampled.median()\n",
    "    mode=oversampled.mode().tolist()[0]\n",
    "    sns.set_theme(style=\"white\")\n",
    "    sns.set_palette(sns.color_palette(\"Set1\", 8))\n",
    "    fig.suptitle(\"SPREAD OF DATA FOR \"+ Name  , fontsize=18, fontweight='bold')\n",
    "    sns.boxplot(x=oversampled,showmeans=True, orient='h',ax=ax_box)\n",
    "    ax_box.set(xlabel='')\n",
    "     # just trying to make visualisation better. This will set background to white\n",
    "    sns.despine(top=True,right=True,left=True) # to remove side line from graph\n",
    "    sns.set_palette(sns.color_palette(\"Set1\", 8))\n",
    "    sns.distplot(oversampled,kde=False,ax=ax_dis)\n",
    "    ax_dis.axvline(mean, color='r', linestyle='--',linewidth=2)\n",
    "    ax_dis.axvline(median, color='g', linestyle='-',linewidth=2)\n",
    "    ax_dis.axvline(mode, color='y', linestyle='-',linewidth=2)\n",
    "    plt.legend({'Mean':mean,'Median':median,'Mode':mode})"
   ]
  },
  {
   "cell_type": "code",
   "execution_count": null,
   "metadata": {
    "colab": {
     "base_uri": "https://localhost:8080/",
     "height": 1000
    },
    "id": "yQ2G7nnzUMJa",
    "outputId": "72cc0c08-86c5-4f38-cb1a-78e28a1e6bee"
   },
   "outputs": [],
   "source": [
    "#select all quantitative columns for checking the spread\n",
    "list_col= oversampled.select_dtypes(include='number').columns.to_list()\n",
    "for i in range(len(list_col)):\n",
    "    dist_box(oversampled[list_col[i]])"
   ]
  },
  {
   "cell_type": "code",
   "execution_count": null,
   "metadata": {
    "colab": {
     "base_uri": "https://localhost:8080/",
     "height": 1000
    },
    "id": "0LJLu-yWWS7E",
    "outputId": "34509240-8117-4fdd-c346-08bd0b58713e"
   },
   "outputs": [],
   "source": [
    "#select all quantitative columns for checking the spread\n",
    "list_col= data.select_dtypes(include='number').columns.to_list()\n",
    "for i in range(len(list_col)):\n",
    "    dist_box(data[list_col[i]])"
   ]
  },
  {
   "cell_type": "code",
   "execution_count": null,
   "metadata": {
    "colab": {
     "base_uri": "https://localhost:8080/",
     "height": 724
    },
    "id": "blLhvzSYUaSG",
    "outputId": "14f4f790-9285-4775-ec83-43bc95b115ac"
   },
   "outputs": [],
   "source": [
    "corr=oversampled.corr()\n",
    "\n",
    "sns.set(font_scale=1.15)\n",
    "plt.figure(figsize=(14, 10))\n",
    "\n",
    "sns.heatmap(corr, vmax=.8, linewidths=0.01,\n",
    "            square=True,annot=True,cmap='YlGnBu',linecolor=\"black\")\n",
    "plt.title('Correlation between features');\n"
   ]
  },
  {
   "cell_type": "code",
   "execution_count": null,
   "metadata": {},
   "outputs": [],
   "source": [
    "oversampled.corr()"
   ]
  },
  {
   "cell_type": "code",
   "execution_count": null,
   "metadata": {
    "colab": {
     "base_uri": "https://localhost:8080/",
     "height": 600
    },
    "id": "dQ58RnhROjmF",
    "outputId": "d8cf92a3-f08e-49de-ac2a-1e1e02af64b6"
   },
   "outputs": [],
   "source": [
    "plt.figure(figsize=(12,9))\n",
    "sns.scatterplot(data=oversampled, x = 'examId', y='seriesNo', hue = 'aclDiagnosis')\n",
    "plt.show()"
   ]
  },
  {
   "cell_type": "code",
   "execution_count": null,
   "metadata": {
    "colab": {
     "base_uri": "https://localhost:8080/",
     "height": 791
    },
    "id": "DwyHk2YwQxWg",
    "outputId": "a22c3e46-f7d1-4ab4-9b9d-8dac9abd4ddb"
   },
   "outputs": [],
   "source": [
    "oversampled.hist(figsize=(22,12))\n",
    "plt.show"
   ]
  },
  {
   "cell_type": "code",
   "execution_count": null,
   "metadata": {
    "colab": {
     "base_uri": "https://localhost:8080/",
     "height": 413
    },
    "id": "LFZg2iG2SABv",
    "outputId": "fc544c7c-45fd-4f17-b971-7eecf4c578cd"
   },
   "outputs": [],
   "source": [
    " sns.countplot(x=oversampled['seriesNo'] )"
   ]
  },
  {
   "cell_type": "code",
   "execution_count": null,
   "metadata": {
    "colab": {
     "base_uri": "https://localhost:8080/",
     "height": 416
    },
    "id": "wIZHX7BrT3ie",
    "outputId": "6167ab26-98c6-450d-bfa1-3d0411f7c17f"
   },
   "outputs": [],
   "source": [
    "sns.countplot(x=data['seriesNo'])"
   ]
  },
  {
   "cell_type": "code",
   "execution_count": null,
   "metadata": {
    "colab": {
     "base_uri": "https://localhost:8080/",
     "height": 489
    },
    "id": "oCGn-hyFXfPI",
    "outputId": "5ac531d2-6b64-47a8-b4b9-a863c662da98"
   },
   "outputs": [],
   "source": [
    "plt.style.use(\"default\")\n",
    "plt.figure(figsize=(5,5))\n",
    "sns.barplot(x=\"aclDiagnosis\", y=\"seriesNo\", data=data[170:180])\n",
    "plt.title(\"aclDiagnosis vs seriesNo\",fontsize=15)\n",
    "plt.xlabel(\"aclDiagnosis\")\n",
    "plt.ylabel(\"seriesNo\")\n",
    "plt.show()\n"
   ]
  },
  {
   "cell_type": "code",
   "execution_count": null,
   "metadata": {
    "colab": {
     "base_uri": "https://localhost:8080/",
     "height": 424
    },
    "id": "ElQbIzmgriaq",
    "outputId": "3531d2f7-8136-4af9-9261-a860ab591803"
   },
   "outputs": [],
   "source": [
    "oversampled"
   ]
  },
  {
   "cell_type": "code",
   "execution_count": null,
   "metadata": {
    "id": "bQ7rc697XMWu"
   },
   "outputs": [],
   "source": [
    "\n",
    "#train_test_splitting of the dataset\n",
    "\n",
    "x = oversampled.drop(columns = ['aclDiagnosis','kneeLR','seriesNo'] )\n",
    "\n",
    "# Getting Predicting Value\n",
    "y = oversampled['aclDiagnosis']\n",
    "\n",
    "#from sklearn.model_selection import train_test_split \n",
    "x_train,x_test,y_train,y_test = train_test_split(x,y,test_size=0.25,random_state=0)"
   ]
  },
  {
   "cell_type": "code",
   "execution_count": null,
   "metadata": {
    "colab": {
     "base_uri": "https://localhost:8080/"
    },
    "id": "LdMuIzgkhUYg",
    "outputId": "43310d46-f1e8-4a6e-80f1-00fa45e228c4"
   },
   "outputs": [],
   "source": [
    "\n",
    "print(x_train.shape, x_test.shape)"
   ]
  },
  {
   "cell_type": "code",
   "execution_count": null,
   "metadata": {
    "colab": {
     "base_uri": "https://localhost:8080/"
    },
    "id": "8hBH3QzBh0jk",
    "outputId": "7823f3ec-97e5-4803-8956-4d371243f320"
   },
   "outputs": [],
   "source": [
    "\n",
    "y.value_counts()"
   ]
  },
  {
   "cell_type": "code",
   "execution_count": null,
   "metadata": {
    "colab": {
     "base_uri": "https://localhost:8080/"
    },
    "id": "7kPDig3_Nj-G",
    "outputId": "ec51ad90-46cb-4a94-b85a-a46ca833714b"
   },
   "outputs": [],
   "source": [
    "y_test.value_counts()"
   ]
  },
  {
   "cell_type": "code",
   "execution_count": null,
   "metadata": {
    "colab": {
     "base_uri": "https://localhost:8080/"
    },
    "id": "_1LEC8isXMZn",
    "outputId": "e9cb63d3-cfa4-4f9b-daf9-f5411c1158b4"
   },
   "outputs": [],
   "source": [
    "print(len(x_train))\n",
    "print(len(x_test))\n",
    "print(len(y_train))\n",
    "print(len(y_test))"
   ]
  },
  {
   "cell_type": "code",
   "execution_count": null,
   "metadata": {
    "id": "bmsM_maQXMcx"
   },
   "outputs": [],
   "source": [
    " #Logistic Regression"
   ]
  },
  {
   "cell_type": "code",
   "execution_count": null,
   "metadata": {
    "colab": {
     "base_uri": "https://localhost:8080/"
    },
    "id": "ZS3dw87dXMfv",
    "outputId": "8ed0494c-8788-4b32-f141-d1ce7bdd9f92"
   },
   "outputs": [],
   "source": [
    "from sklearn.linear_model import LogisticRegression\n",
    "reg = LogisticRegression()\n",
    "reg.fit(x_train,y_train)"
   ]
  },
  {
   "cell_type": "code",
   "execution_count": null,
   "metadata": {
    "colab": {
     "base_uri": "https://localhost:8080/"
    },
    "id": "Lki5_Qs_XMiE",
    "outputId": "cc3d9dbb-27ae-4a2d-fa05-b184ffd7c160"
   },
   "outputs": [],
   "source": [
    "y_pred=reg.predict(x_test)\n",
    "from sklearn.metrics import accuracy_score,classification_report,confusion_matrix\n",
    "from sklearn.metrics import r2_score\n",
    "from sklearn.metrics import mean_squared_error\n",
    "print(\"Classification Report is:\\n\",classification_report(y_test,y_pred))\n",
    "print(\"Confusion Matrix:\\n\",confusion_matrix(y_test,y_pred))\n",
    "print(\"Training Score:\\n\",reg.score(x_train,y_train)*100)\n",
    "print(\"Mean Squared Error:\\n\",mean_squared_error(y_test,y_pred))\n",
    "print(\"R2 score is:\\n\",r2_score(y_test,y_pred))\n"
   ]
  },
  {
   "cell_type": "code",
   "execution_count": null,
   "metadata": {
    "id": "JM_MwkViXMlb"
   },
   "outputs": [],
   "source": [
    "LRacc=(accuracy_score(y_test,y_pred)*100)"
   ]
  },
  {
   "cell_type": "code",
   "execution_count": null,
   "metadata": {
    "colab": {
     "base_uri": "https://localhost:8080/"
    },
    "id": "-3-SYTOjvSmX",
    "outputId": "1ebcddea-2ef2-4b46-8dd3-95a945dee064"
   },
   "outputs": [],
   "source": [
    "\n",
    "print(LRacc)"
   ]
  },
  {
   "cell_type": "code",
   "execution_count": null,
   "metadata": {
    "colab": {
     "base_uri": "https://localhost:8080/",
     "height": 312
    },
    "id": "NsQBjUUb4uaV",
    "outputId": "3beea7f7-041f-475f-e8b6-21ed8c5f97b6"
   },
   "outputs": [],
   "source": [
    "ypred = reg.predict(x_test)\n",
    "from sklearn import metrics\n",
    "cnf_matrix = metrics.confusion_matrix(y_test, y_pred)\n",
    "p = sns.heatmap(pd.DataFrame(cnf_matrix), annot=True, cmap=\"YlGnBu\" ,fmt='g')\n",
    "plt.title('Confusion matrix', y=1.1)\n",
    "plt.ylabel('Actual label')\n",
    "plt.xlabel('Predicted label')"
   ]
  },
  {
   "cell_type": "code",
   "execution_count": null,
   "metadata": {
    "colab": {
     "base_uri": "https://localhost:8080/"
    },
    "id": "0bGt8pKnXMok",
    "outputId": "7619b844-c719-490d-e64e-b71bc3f408d0"
   },
   "outputs": [],
   "source": [
    "\n",
    "from sklearn.neighbors import KNeighborsClassifier\n",
    "knn=KNeighborsClassifier(n_neighbors=5)\n",
    "\n",
    "knn.fit(x_train,y_train)"
   ]
  },
  {
   "cell_type": "code",
   "execution_count": null,
   "metadata": {
    "colab": {
     "base_uri": "https://localhost:8080/"
    },
    "id": "LO95sxMcXMrS",
    "outputId": "4882eeca-43e3-4e97-9c28-8dd0f758fd92"
   },
   "outputs": [],
   "source": [
    "\n",
    "\n",
    "\n",
    "y_pred=knn.predict(x_test)\n",
    "from sklearn.metrics import accuracy_score,classification_report,confusion_matrix\n",
    "from sklearn.metrics import r2_score\n",
    "from sklearn.metrics import mean_squared_error\n",
    "print(\"Classification Report is:\\n\",classification_report(y_test,y_pred))\n",
    "print(\"Confusion Matrix:\\n\",confusion_matrix(y_test,y_pred))\n",
    "print(\"Training Score:\\n\",knn.score(x_train,y_train)*100)\n",
    "print(\"Mean Squared Error:\\n\",mean_squared_error(y_test,y_pred))\n",
    "print(\"R2 score is:\\n\",r2_score(y_test,y_pred))"
   ]
  },
  {
   "cell_type": "code",
   "execution_count": null,
   "metadata": {
    "colab": {
     "base_uri": "https://localhost:8080/",
     "height": 130
    },
    "id": "jUK_9RUlXMuI",
    "outputId": "f22fdea0-c64c-47a8-907d-13fb54583656"
   },
   "outputs": [],
   "source": [
    "knnacc=(accuracy_score(y_test,y_pred)*100)"
   ]
  },
  {
   "cell_type": "code",
   "execution_count": null,
   "metadata": {
    "colab": {
     "base_uri": "https://localhost:8080/"
    },
    "id": "MCGfHkx3v10e",
    "outputId": "093584c6-f28a-48f2-86e3-9a2f2ee21abb"
   },
   "outputs": [],
   "source": [
    "print(knnacc)"
   ]
  },
  {
   "cell_type": "code",
   "execution_count": null,
   "metadata": {
    "colab": {
     "base_uri": "https://localhost:8080/",
     "height": 312
    },
    "id": "pQG91Rkl14jg",
    "outputId": "cc70afd2-6998-4e5e-baf3-63ff50ec7b44"
   },
   "outputs": [],
   "source": [
    "ypred = knn.predict(x_test)\n",
    "from sklearn import metrics\n",
    "cnf_matrix = metrics.confusion_matrix(y_test, y_pred)\n",
    "p = sns.heatmap(pd.DataFrame(cnf_matrix), annot=True, cmap=\"YlGnBu\" ,fmt='g')\n",
    "plt.title('Confusion matrix', y=1.1)\n",
    "plt.ylabel('Actual label')\n",
    "plt.xlabel('Predicted label')"
   ]
  },
  {
   "cell_type": "code",
   "execution_count": null,
   "metadata": {
    "colab": {
     "base_uri": "https://localhost:8080/"
    },
    "id": "_pJjaXqrXMx0",
    "outputId": "71fadcc7-cea1-4bc6-fce0-ecb88efcf876"
   },
   "outputs": [],
   "source": [
    "from sklearn.svm import SVC\n",
    "\n",
    "svc = SVC()\n",
    "svc.fit(x_train, y_train)"
   ]
  },
  {
   "cell_type": "code",
   "execution_count": null,
   "metadata": {
    "colab": {
     "base_uri": "https://localhost:8080/"
    },
    "id": "pZz8hL1EXM0v",
    "outputId": "756fe8a8-948e-456b-ec62-ed00a773e199"
   },
   "outputs": [],
   "source": [
    "y_pred=svc.predict(x_test)\n",
    "from sklearn.metrics import accuracy_score,classification_report,confusion_matrix\n",
    "from sklearn.metrics import r2_score\n",
    "from sklearn.metrics import mean_squared_error\n",
    "print(\"Classification Report is:\\n\",classification_report(y_test,y_pred))\n",
    "print(\"Confusion Matrix:\\n\",confusion_matrix(y_test,y_pred))\n",
    "print(\"Training Score:\\n\",svc.score(x_train,y_train)*100)\n",
    "print(\"Mean Squared Error:\\n\",mean_squared_error(y_test,y_pred))\n",
    "print(\"R2 score is:\\n\",r2_score(y_test,y_pred))"
   ]
  },
  {
   "cell_type": "code",
   "execution_count": null,
   "metadata": {
    "id": "1YGe_qL_XM4I"
   },
   "outputs": [],
   "source": [
    "svcacc=(accuracy_score(y_test,y_pred)*100)"
   ]
  },
  {
   "cell_type": "code",
   "execution_count": null,
   "metadata": {
    "colab": {
     "base_uri": "https://localhost:8080/"
    },
    "id": "zVcAQ-mDwCoA",
    "outputId": "95b821c3-1202-4157-9c6a-a6f2e736d420"
   },
   "outputs": [],
   "source": [
    "print(svcacc)"
   ]
  },
  {
   "cell_type": "code",
   "execution_count": null,
   "metadata": {
    "colab": {
     "base_uri": "https://localhost:8080/",
     "height": 312
    },
    "id": "CeyKujCg38xe",
    "outputId": "ce849010-cf6f-48c4-babd-8103ab79abab"
   },
   "outputs": [],
   "source": [
    "\n",
    "\n",
    "ypred = svc.predict(x_test)\n",
    "from sklearn import metrics\n",
    "cnf_matrix = metrics.confusion_matrix(y_test, y_pred)\n",
    "p = sns.heatmap(pd.DataFrame(cnf_matrix), annot=True, cmap=\"YlGnBu\" ,fmt='g')\n",
    "plt.title('Confusion matrix', y=1.1)\n",
    "plt.ylabel('Actual label')\n",
    "plt.xlabel('Predicted label')"
   ]
  },
  {
   "cell_type": "code",
   "execution_count": null,
   "metadata": {
    "colab": {
     "base_uri": "https://localhost:8080/"
    },
    "id": "hxdzDONmXM7K",
    "outputId": "840b4bb2-4c83-445b-d19a-13ed4201ed9d"
   },
   "outputs": [],
   "source": [
    "from sklearn.naive_bayes import GaussianNB\n",
    "gnb = GaussianNB()\n",
    "gnb.fit(x_train,y_train)\n"
   ]
  },
  {
   "cell_type": "code",
   "execution_count": null,
   "metadata": {
    "colab": {
     "base_uri": "https://localhost:8080/"
    },
    "id": "jQiWNvHXXM-F",
    "outputId": "9d524f6c-5be1-446c-d281-e6a9860ea369"
   },
   "outputs": [],
   "source": [
    "y_pred=gnb.predict(x_test)\n",
    "from sklearn.metrics import accuracy_score,classification_report,confusion_matrix\n",
    "from sklearn.metrics import r2_score\n",
    "from sklearn.metrics import mean_squared_error\n",
    "print(\"Classification Report is:\\n\",classification_report(y_test,y_pred))\n",
    "print(\"Confusion Matrix:\\n\",confusion_matrix(y_test,y_pred))\n",
    "print(\"Training Score:\\n\",gnb.score(x_train,y_train)*100)\n",
    "print(\"Mean Squared Error:\\n\",mean_squared_error(y_test,y_pred))\n",
    "print(\"R2 score is:\\n\",r2_score(y_test,y_pred))"
   ]
  },
  {
   "cell_type": "code",
   "execution_count": null,
   "metadata": {
    "id": "7TsTsg2rXNDY"
   },
   "outputs": [],
   "source": [
    "\n",
    "\n",
    "gnbacc=(accuracy_score(y_test,y_pred)*100)"
   ]
  },
  {
   "cell_type": "code",
   "execution_count": null,
   "metadata": {
    "colab": {
     "base_uri": "https://localhost:8080/"
    },
    "id": "ldTUg63Xw3Op",
    "outputId": "cd59d290-6298-4562-ddd6-04cb136cd8ce"
   },
   "outputs": [],
   "source": [
    "\n",
    "\n",
    "\n",
    "print(gnbacc)"
   ]
  },
  {
   "cell_type": "code",
   "execution_count": null,
   "metadata": {
    "colab": {
     "base_uri": "https://localhost:8080/",
     "height": 312
    },
    "id": "qdnd2E3J4F5z",
    "outputId": "13cda133-f0f8-48ec-c8e9-0259c6fe5941"
   },
   "outputs": [],
   "source": [
    "ypred = gnb.predict(x_test)\n",
    "from sklearn import metrics\n",
    "cnf_matrix = metrics.confusion_matrix(y_test, y_pred)\n",
    "p = sns.heatmap(pd.DataFrame(cnf_matrix), annot=True, cmap=\"YlGnBu\" ,fmt='g')\n",
    "plt.title('Confusion matrix', y=1.1)\n",
    "plt.ylabel('Actual label')\n",
    "plt.xlabel('Predicted label')"
   ]
  },
  {
   "cell_type": "code",
   "execution_count": null,
   "metadata": {
    "colab": {
     "base_uri": "https://localhost:8080/"
    },
    "id": "UGb5j7XSXNFG",
    "outputId": "e5f465ef-552c-414d-eb42-49d09666ae78"
   },
   "outputs": [],
   "source": [
    "\n",
    "from sklearn.tree import DecisionTreeClassifier\n",
    "dtree = DecisionTreeClassifier(max_depth=10, random_state=123,criterion='entropy')\n",
    "\n",
    "dtree.fit(x_train,y_train)"
   ]
  },
  {
   "cell_type": "code",
   "execution_count": null,
   "metadata": {
    "colab": {
     "base_uri": "https://localhost:8080/"
    },
    "id": "q4fzupk2ZqyN",
    "outputId": "6e4b7ff4-d4e0-4612-bb02-009cc0942c66"
   },
   "outputs": [],
   "source": [
    "\n",
    "\n",
    "y_pred=dtree.predict(x_test)\n",
    "from sklearn.metrics import accuracy_score,classification_report,confusion_matrix\n",
    "from sklearn.metrics import r2_score\n",
    "from sklearn.metrics import mean_squared_error\n",
    "print(\"Classification Report is:\\n\",classification_report(y_test,y_pred))\n",
    "print(\"Confusion Matrix:\\n\",confusion_matrix(y_test,y_pred))\n",
    "print(\"Training Score:\\n\",dtree.score(x_train,y_train)*100)\n",
    "print(\"Mean Squared Error:\\n\",mean_squared_error(y_test,y_pred))\n",
    "print(\"R2 score is:\\n\",r2_score(y_test,y_pred))"
   ]
  },
  {
   "cell_type": "code",
   "execution_count": null,
   "metadata": {
    "id": "4Sxll2P1Zq1p"
   },
   "outputs": [],
   "source": [
    "\n",
    "dtacc=(accuracy_score(y_test,y_pred)*100)\n",
    "\n"
   ]
  },
  {
   "cell_type": "code",
   "execution_count": null,
   "metadata": {
    "colab": {
     "base_uri": "https://localhost:8080/"
    },
    "id": "QlXP0Yz4xZ1M",
    "outputId": "ff95290f-c4ee-4baa-b386-3d4c31758f8d"
   },
   "outputs": [],
   "source": [
    "\n",
    "print(dtacc)"
   ]
  },
  {
   "cell_type": "code",
   "execution_count": null,
   "metadata": {
    "colab": {
     "base_uri": "https://localhost:8080/",
     "height": 312
    },
    "id": "LI4ujJcW4R3u",
    "outputId": "b254e91b-c8bf-4727-b452-3c9efd30955d"
   },
   "outputs": [],
   "source": [
    "ypred = dtree.predict(x_test)\n",
    "from sklearn import metrics\n",
    "cnf_matrix = metrics.confusion_matrix(y_test, y_pred)\n",
    "p = sns.heatmap(pd.DataFrame(cnf_matrix), annot=True, cmap=\"YlGnBu\" ,fmt='g')\n",
    "plt.title('Confusion matrix Decision Tree', y=1.1)\n",
    "plt.ylabel('Actual label')\n",
    "plt.xlabel('Predicted label')"
   ]
  },
  {
   "cell_type": "code",
   "execution_count": null,
   "metadata": {
    "colab": {
     "base_uri": "https://localhost:8080/",
     "height": 269
    },
    "id": "SBC6gSxprvIt",
    "outputId": "47574956-0a6e-4012-de53-f97ae7cc1873"
   },
   "outputs": [],
   "source": [
    "pd.DataFrame(dtree.feature_importances_,\n",
    "             index=x_train.columns, columns=['Importance']).sort_values(\n",
    "    by='Importance', ascending=False)[:10]"
   ]
  },
  {
   "cell_type": "code",
   "execution_count": null,
   "metadata": {
    "colab": {
     "base_uri": "https://localhost:8080/"
    },
    "id": "Ai2HVCaTZq4f",
    "outputId": "ec184e4c-057a-425e-d520-50f5e7fdadfa"
   },
   "outputs": [],
   "source": [
    "from sklearn.ensemble import RandomForestClassifier\n",
    "rfc=RandomForestClassifier( random_state=17)\n",
    "#rfc=RandomForestClassifier( n_estimators=100, random_state=17, n_jobs=4)\n",
    "rfc.fit(x_train,y_train)\n"
   ]
  },
  {
   "cell_type": "code",
   "execution_count": null,
   "metadata": {
    "colab": {
     "base_uri": "https://localhost:8080/"
    },
    "id": "qtWGS661Zq7h",
    "outputId": "dea29cd9-6469-43ce-fd28-6f018dafe9eb"
   },
   "outputs": [],
   "source": [
    "\n",
    "y_pred=rfc.predict(x_test)\n",
    "from sklearn.metrics import accuracy_score,classification_report,confusion_matrix\n",
    "from sklearn.metrics import r2_score\n",
    "from sklearn.metrics import mean_squared_error\n",
    "print(\"Classification Report is:\\n\",classification_report(y_test,y_pred))\n",
    "print(\"Confusion Matrix:\\n\",confusion_matrix(y_test,y_pred))\n",
    "print(\"Training Score:\\n\",rfc.score(x_train,y_train)*100)\n",
    "print(\"Mean Squared Error:\\n\",mean_squared_error(y_test,y_pred))\n",
    "print(\"R2 score is:\\n\",r2_score(y_test,y_pred))\n"
   ]
  },
  {
   "cell_type": "code",
   "execution_count": null,
   "metadata": {
    "id": "EhPo4TH_pLoV"
   },
   "outputs": [],
   "source": [
    "\n",
    "\n",
    "rfacc=(accuracy_score(y_test,y_pred)*100)"
   ]
  },
  {
   "cell_type": "code",
   "execution_count": null,
   "metadata": {
    "colab": {
     "base_uri": "https://localhost:8080/"
    },
    "id": "i3BNKkD9xpdB",
    "outputId": "275d0729-5cb4-4b2a-f2cd-10a0c87a55b4"
   },
   "outputs": [],
   "source": [
    "print(rfacc)"
   ]
  },
  {
   "cell_type": "code",
   "execution_count": null,
   "metadata": {
    "colab": {
     "base_uri": "https://localhost:8080/",
     "height": 312
    },
    "id": "v5FI0I554azU",
    "outputId": "e0db88e2-fa8d-43f3-8fdb-075513190d4b"
   },
   "outputs": [],
   "source": [
    "\n",
    "ypred = rfc.predict(x_test)\n",
    "from sklearn import metrics\n",
    "cnf_matrix = metrics.confusion_matrix(y_test, y_pred)\n",
    "p = sns.heatmap(pd.DataFrame(cnf_matrix), annot=True, cmap=\"YlGnBu\" ,fmt='g')\n",
    "plt.title('Confusion matrix Random Forest', y=1.1)\n",
    "plt.ylabel('Actual label')\n",
    "plt.xlabel('Predicted label')"
   ]
  },
  {
   "cell_type": "code",
   "execution_count": null,
   "metadata": {
    "colab": {
     "base_uri": "https://localhost:8080/",
     "height": 269
    },
    "id": "nhlFmxjODrKA",
    "outputId": "99ddf0d8-a9f1-47c8-bda4-d71178cc342c"
   },
   "outputs": [],
   "source": [
    "pd.DataFrame(rfc.feature_importances_,\n",
    "             index=x_train.columns, columns=['Importance']).sort_values(\n",
    "    by='Importance', ascending=False)[:10]"
   ]
  },
  {
   "cell_type": "code",
   "execution_count": null,
   "metadata": {
    "colab": {
     "base_uri": "https://localhost:8080/"
    },
    "id": "Kn6fM6tuo928",
    "outputId": "fc83ded8-1c61-4f67-cde3-040e42439cb2"
   },
   "outputs": [],
   "source": [
    "from sklearn.ensemble import AdaBoostClassifier\n",
    "adb = AdaBoostClassifier(base_estimator = None)\n",
    "adb.fit(x_train,y_train)"
   ]
  },
  {
   "cell_type": "code",
   "execution_count": null,
   "metadata": {
    "colab": {
     "base_uri": "https://localhost:8080/"
    },
    "id": "UmK17pAXZ93Y",
    "outputId": "65a1adf9-99e0-4c6d-d6fd-5e4bb0618589"
   },
   "outputs": [],
   "source": [
    "\n",
    "y_pred=adb.predict(x_test)\n",
    "from sklearn.metrics import accuracy_score,classification_report,confusion_matrix\n",
    "from sklearn.metrics import r2_score\n",
    "from sklearn.metrics import mean_squared_error\n",
    "print(\"Classification Report is:\\n\",classification_report(y_test,y_pred))\n",
    "print(\"Confusion Matrix:\\n\",confusion_matrix(y_test,y_pred))\n",
    "print(\"Training Score:\\n\",adb.score(x_train,y_train)*100)\n",
    "print(\"Mean Squared Error:\\n\",mean_squared_error(y_test,y_pred))\n",
    "print(\"R2 score is:\\n\",r2_score(y_test,y_pred))\n"
   ]
  },
  {
   "cell_type": "code",
   "execution_count": null,
   "metadata": {
    "colab": {
     "base_uri": "https://localhost:8080/"
    },
    "id": "oR5lh4suZ97K",
    "outputId": "c3bf6c44-553b-4512-c7de-3429e1b9ce78"
   },
   "outputs": [],
   "source": [
    "\n",
    "adabacc=(accuracy_score(y_test,y_pred)*100)\n",
    "print(adabacc)"
   ]
  },
  {
   "cell_type": "code",
   "execution_count": null,
   "metadata": {
    "colab": {
     "base_uri": "https://localhost:8080/",
     "height": 312
    },
    "id": "TTPBpZxr4kuq",
    "outputId": "22c74b25-b59e-48c7-d45c-4c050df2fb95"
   },
   "outputs": [],
   "source": [
    "\n",
    "ypred = adb.predict(x_test)\n",
    "from sklearn import metrics\n",
    "cnf_matrix = metrics.confusion_matrix(y_test, y_pred)\n",
    "p = sns.heatmap(pd.DataFrame(cnf_matrix), annot=True, cmap=\"YlGnBu\" ,fmt='g')\n",
    "plt.title('Confusion matrix', y=1.1)\n",
    "plt.ylabel('Actual label')\n",
    "plt.xlabel('Predicted label')"
   ]
  },
  {
   "cell_type": "code",
   "execution_count": null,
   "metadata": {
    "colab": {
     "base_uri": "https://localhost:8080/"
    },
    "id": "zl7-Lu7KZ-Ga",
    "outputId": "146d53f9-f12c-41cd-d218-03bd071356e0"
   },
   "outputs": [],
   "source": [
    "\n",
    "\n",
    "\n",
    "from sklearn.ensemble import GradientBoostingClassifier\n",
    "gbc=GradientBoostingClassifier()\n",
    "#gbc=GradientBoostingClassifier(n_estimators=20, learning_rate = 0.1, max_features=2, max_depth = 2, random_state = 0)\n",
    "gbc.fit(x_train,y_train)\n"
   ]
  },
  {
   "cell_type": "code",
   "execution_count": null,
   "metadata": {
    "colab": {
     "base_uri": "https://localhost:8080/"
    },
    "id": "2RYY8cmrZ-Ko",
    "outputId": "4f0c1482-eb2d-4e2c-8fb9-b5aea4e454a5"
   },
   "outputs": [],
   "source": [
    "y_pred=gbc.predict(x_test)\n",
    "from sklearn.metrics import accuracy_score,classification_report,confusion_matrix\n",
    "from sklearn.metrics import r2_score\n",
    "from sklearn.metrics import mean_squared_error\n",
    "print(\"Classification Report is:\\n\",classification_report(y_test,y_pred))\n",
    "print(\"Confusion Matrix:\\n\",confusion_matrix(y_test,y_pred))\n",
    "print(\"Training Score:\\n\",gbc.score(x_train,y_train)*100)\n",
    "print(\"Mean Squared Error:\\n\",mean_squared_error(y_test,y_pred))\n",
    "print(\"R2 score is:\\n\",r2_score(y_test,y_pred))"
   ]
  },
  {
   "cell_type": "code",
   "execution_count": null,
   "metadata": {
    "colab": {
     "base_uri": "https://localhost:8080/"
    },
    "id": "Zg8OlFROZ-M-",
    "outputId": "4d033091-75ed-4e96-f63d-2fa9406741cb"
   },
   "outputs": [],
   "source": [
    "gbcacc=(accuracy_score(y_test,y_pred)*100)\n",
    "print(gbcacc)"
   ]
  },
  {
   "cell_type": "code",
   "execution_count": null,
   "metadata": {
    "colab": {
     "base_uri": "https://localhost:8080/",
     "height": 312
    },
    "id": "4yCgThgY4zFH",
    "outputId": "87320912-bd57-4622-9e10-4be76f4ec301"
   },
   "outputs": [],
   "source": [
    "ypred = gbc.predict(x_test)\n",
    "from sklearn import metrics\n",
    "cnf_matrix = metrics.confusion_matrix(y_test, y_pred)\n",
    "p = sns.heatmap(pd.DataFrame(cnf_matrix), annot=True, cmap=\"YlGnBu\" ,fmt='g')\n",
    "plt.title('Confusion matrix', y=1.1)\n",
    "plt.ylabel('Actual label')\n",
    "plt.xlabel('Predicted label')"
   ]
  },
  {
   "cell_type": "code",
   "execution_count": null,
   "metadata": {
    "colab": {
     "base_uri": "https://localhost:8080/"
    },
    "id": "xYe81e2uZ-P4",
    "outputId": "08fe6c91-3837-467f-86e8-0cc19743fd87"
   },
   "outputs": [],
   "source": [
    "\n",
    "from xgboost import XGBClassifier\n",
    "\n",
    "#xgb =XGBClassifier(objective ='reg:linear', colsample_bytree = 0.3, learning_rate = 0.1,max_depth = 5, alpha = 10, n_estimators = 10)\n",
    "xgb =XGBClassifier()\n",
    "xgb.fit(x_train, y_train)\n"
   ]
  },
  {
   "cell_type": "code",
   "execution_count": null,
   "metadata": {
    "colab": {
     "base_uri": "https://localhost:8080/"
    },
    "id": "XIDthybbaMx-",
    "outputId": "509a8975-3195-45b1-fb9a-79237deb055b"
   },
   "outputs": [],
   "source": [
    "\n",
    "y_pred=xgb.predict(x_test)\n",
    "from sklearn.metrics import accuracy_score,classification_report,confusion_matrix\n",
    "from sklearn.metrics import r2_score\n",
    "from sklearn.metrics import mean_squared_error\n",
    "print(\"Classification Report is:\\n\",classification_report(y_test,y_pred))\n",
    "print(\"Confusion Matrix:\\n\",confusion_matrix(y_test,y_pred))\n",
    "print(\"Training Score:\\n\",xgb.score(x_train,y_train)*100)\n",
    "print(\"Mean Squared Error:\\n\",mean_squared_error(y_test,y_pred))\n",
    "print(\"R2 score is:\\n\",r2_score(y_test,y_pred))"
   ]
  },
  {
   "cell_type": "code",
   "execution_count": null,
   "metadata": {
    "colab": {
     "base_uri": "https://localhost:8080/"
    },
    "id": "8_9vkpquaM1v",
    "outputId": "fe8ebefa-add3-408a-c35c-9970eafe16fb"
   },
   "outputs": [],
   "source": [
    "xbgacc=(accuracy_score(y_test,y_pred)*100)\n",
    "print(xbgacc)"
   ]
  },
  {
   "cell_type": "code",
   "execution_count": null,
   "metadata": {
    "colab": {
     "base_uri": "https://localhost:8080/",
     "height": 312
    },
    "id": "a3ZeDfiP497S",
    "outputId": "dac31e65-86c9-4b2d-d374-74e048ba373e"
   },
   "outputs": [],
   "source": [
    "\n",
    "ypred = xgb.predict(x_test)\n",
    "from sklearn import metrics\n",
    "cnf_matrix = metrics.confusion_matrix(y_test, y_pred)\n",
    "p = sns.heatmap(pd.DataFrame(cnf_matrix), annot=True, cmap=\"YlGnBu\" ,fmt='g')\n",
    "plt.title('Confusion matrix', y=1.1)\n",
    "plt.ylabel('Actual label')\n",
    "plt.xlabel('Predicted label')"
   ]
  },
  {
   "cell_type": "code",
   "execution_count": null,
   "metadata": {
    "colab": {
     "base_uri": "https://localhost:8080/"
    },
    "id": "CpeTCv6vaM46",
    "outputId": "5db3c6d3-4f61-4a58-d085-5f239bc7efde"
   },
   "outputs": [],
   "source": [
    "from sklearn.ensemble import ExtraTreesClassifier\n",
    "etc = ExtraTreesClassifier(n_estimators=100, criterion='entropy', min_samples_split=4,random_state=0)\n",
    "etc.fit(x_train,y_train)"
   ]
  },
  {
   "cell_type": "code",
   "execution_count": null,
   "metadata": {
    "colab": {
     "base_uri": "https://localhost:8080/"
    },
    "id": "URWa7L3FZ1IC",
    "outputId": "e6f280e9-4c75-4d3a-c2ed-ad12327fa63e"
   },
   "outputs": [],
   "source": [
    "y_pred=etc.predict(x_test)\n",
    "from sklearn.metrics import accuracy_score,classification_report,confusion_matrix\n",
    "from sklearn.metrics import r2_score\n",
    "from sklearn.metrics import mean_squared_error\n",
    "print(\"Classification Report is:\\n\",classification_report(y_test,y_pred))\n",
    "print(\"Confusion Matrix:\\n\",confusion_matrix(y_test,y_pred))\n",
    "print(\"Training Score:\\n\",etc.score(x_train,y_train)*100)\n",
    "print(\"Mean Squared Error:\\n\",mean_squared_error(y_test,y_pred))\n",
    "print(\"R2 score is:\\n\",r2_score(y_test,y_pred))"
   ]
  },
  {
   "cell_type": "code",
   "execution_count": null,
   "metadata": {
    "colab": {
     "base_uri": "https://localhost:8080/"
    },
    "id": "URC1X_adabJn",
    "outputId": "355650a7-aa84-4001-d0cc-27c84fcab45e"
   },
   "outputs": [],
   "source": [
    "\n",
    "\n",
    "etcacc=(accuracy_score(y_test,y_pred)*100)\n",
    "print(etcacc)"
   ]
  },
  {
   "cell_type": "code",
   "execution_count": null,
   "metadata": {
    "colab": {
     "base_uri": "https://localhost:8080/",
     "height": 312
    },
    "id": "lHogFv1S5JXY",
    "outputId": "cf242cc7-c412-4454-a6b9-8a2e11a839c4"
   },
   "outputs": [],
   "source": [
    "ypred = etc.predict(x_test)\n",
    "from sklearn import metrics\n",
    "cnf_matrix = metrics.confusion_matrix(y_test, y_pred)\n",
    "p = sns.heatmap(pd.DataFrame(cnf_matrix), annot=True, cmap=\"YlGnBu\" ,fmt='g')\n",
    "plt.title('Confusion matrix Extra Tree', y=1.1)\n",
    "plt.ylabel('Actual label')\n",
    "plt.xlabel('Predicted label')"
   ]
  },
  {
   "cell_type": "code",
   "execution_count": null,
   "metadata": {
    "id": "tvRqOJi-DaH0"
   },
   "outputs": [],
   "source": [
    "feature_importance=pd.DataFrame(etc.feature_importances_,\n",
    "             index=x_train.columns, columns=['Importance']).sort_values(\n",
    "    by='Importance', ascending=False)[:10]"
   ]
  },
  {
   "cell_type": "code",
   "execution_count": null,
   "metadata": {
    "colab": {
     "base_uri": "https://localhost:8080/",
     "height": 269
    },
    "id": "Wqcj-F4Fh_4v",
    "outputId": "97937ffa-4eba-46d1-fa87-4e309de35616"
   },
   "outputs": [],
   "source": [
    "feature_importance"
   ]
  },
  {
   "cell_type": "code",
   "execution_count": null,
   "metadata": {
    "colab": {
     "base_uri": "https://localhost:8080/"
    },
    "id": "f7XOkHpcjIFi",
    "outputId": "2db623b6-4a86-4f31-bbc8-a4fc858621af"
   },
   "outputs": [],
   "source": [
    "x_train.shape"
   ]
  },
  {
   "cell_type": "code",
   "execution_count": null,
   "metadata": {},
   "outputs": [],
   "source": [
    "conda install catoost"
   ]
  },
  {
   "cell_type": "code",
   "execution_count": null,
   "metadata": {},
   "outputs": [],
   "source": [
    "from xgboost import XGBClassifier\n",
    "from catboost import CatBoostClassifier\n",
    "from sklearn.ensemble import ExtraTreesClassifier\n",
    "from lightgbm import LGBMClassifier\n",
    "from sklearn.ensemble import VotingClassifier"
   ]
  },
  {
   "cell_type": "code",
   "execution_count": null,
   "metadata": {
    "colab": {
     "base_uri": "https://localhost:8080/"
    },
    "id": "owxlMk-2-ihe",
    "outputId": "ec97d792-b2b0-4a6b-9e90-f5e0fafb1ad9"
   },
   "outputs": [],
   "source": [
    "from catboost import CatBoostClassifier\n",
    "\n",
    "cat = CatBoostClassifier(iterations=200,\n",
    "                             learning_rate=0.5,\n",
    "                             depth=10,\n",
    "                             random_seed = 42,\n",
    "                             bagging_temperature = 0.2,\n",
    "                             od_type='Iter',\n",
    "                             metric_period = 50,\n",
    "                             od_wait=20)\n",
    "cat.fit(x_train,y_train)"
   ]
  },
  {
   "cell_type": "code",
   "execution_count": null,
   "metadata": {
    "colab": {
     "base_uri": "https://localhost:8080/"
    },
    "id": "FpAXpTikAN9E",
    "outputId": "80392f4b-7e9d-420a-e24f-31650be0a157"
   },
   "outputs": [],
   "source": [
    "y_pred=cat.predict(x_test)\n",
    "from sklearn.metrics import accuracy_score,classification_report,confusion_matrix\n",
    "from sklearn.metrics import r2_score\n",
    "from sklearn.metrics import mean_squared_error\n",
    "print(\"Classification Report is:\\n\",classification_report(y_test,y_pred))\n",
    "print(\"Confusion Matrix:\\n\",confusion_matrix(y_test,y_pred))\n",
    "print(\"Training Score:\\n\",etc.score(x_train,y_train)*100)\n",
    "print(\"Mean Squared Error:\\n\",mean_squared_error(y_test,y_pred))\n",
    "print(\"R2 score is:\\n\",r2_score(y_test,y_pred))"
   ]
  },
  {
   "cell_type": "code",
   "execution_count": null,
   "metadata": {
    "colab": {
     "base_uri": "https://localhost:8080/"
    },
    "id": "C5LiosPo_0x7",
    "outputId": "671eeb43-dcbd-4aa3-ef38-d68fdef65d54"
   },
   "outputs": [],
   "source": [
    "catacc=(accuracy_score(y_test,y_pred)*100)\n",
    "print(catacc)"
   ]
  },
  {
   "cell_type": "code",
   "execution_count": null,
   "metadata": {
    "colab": {
     "base_uri": "https://localhost:8080/",
     "height": 312
    },
    "id": "cc-X7Fqt-ikt",
    "outputId": "602814b4-e6cd-4c94-e90c-bc99b4ad4237"
   },
   "outputs": [],
   "source": [
    "ypred = cat.predict(x_test)\n",
    "from sklearn import metrics\n",
    "cnf_matrix = metrics.confusion_matrix(y_test, y_pred)\n",
    "p = sns.heatmap(pd.DataFrame(cnf_matrix), annot=True, cmap=\"YlGnBu\" ,fmt='g')\n",
    "plt.title('Confusion matrix Cat Boost', y=1.1)\n",
    "plt.ylabel('Actual label')\n",
    "plt.xlabel('Predicted label')"
   ]
  },
  {
   "cell_type": "code",
   "execution_count": null,
   "metadata": {
    "colab": {
     "base_uri": "https://localhost:8080/",
     "height": 269
    },
    "id": "ebIAOQymDOPm",
    "outputId": "5bec7e8a-bca3-4c4c-b158-d390900932c4"
   },
   "outputs": [],
   "source": [
    "pd.DataFrame(cat.feature_importances_,\n",
    "             index=x_train.columns, columns=['Importance']).sort_values(\n",
    "    by='Importance', ascending=False)[:10]"
   ]
  },
  {
   "cell_type": "code",
   "execution_count": null,
   "metadata": {
    "colab": {
     "base_uri": "https://localhost:8080/"
    },
    "id": "ewCNCIcI-ivW",
    "outputId": "490b34fe-687e-4c71-a0a7-f4368e5950b5"
   },
   "outputs": [],
   "source": [
    "lgbm = LGBMClassifier( n_estimators=200, num_leaves=65,learning_rate=0.2, max_depth=-1, n_jobs=5)\n",
    "#lgbm = LGBMClassifier()\n",
    "lgbm.fit(x_train,y_train)"
   ]
  },
  {
   "cell_type": "code",
   "execution_count": null,
   "metadata": {
    "id": "DYSo4G8F28-T"
   },
   "outputs": [],
   "source": [
    "#print(\"Features Importance...\")\n",
    "#gain = lgbm.feature_importance('gain')\n",
    "#featureimp = pd.DataFrame({'feature':lgbm.feature_name(), \n",
    " #                  'split':lgbm.feature_importance('split'), \n",
    "  #                 'gain':100 * gain / gain.sum()}).sort_values('gain', ascending=False)\n",
    "#print(featureimp[:50])\n"
   ]
  },
  {
   "cell_type": "code",
   "execution_count": null,
   "metadata": {
    "colab": {
     "base_uri": "https://localhost:8080/"
    },
    "id": "forNi3rmB1rc",
    "outputId": "cea64c50-f307-41a2-951a-2bb330a96d1c"
   },
   "outputs": [],
   "source": [
    "y_pred=lgbm.predict(x_test)\n",
    "from sklearn.metrics import accuracy_score,classification_report,confusion_matrix\n",
    "from sklearn.metrics import r2_score\n",
    "from sklearn.metrics import mean_squared_error\n",
    "print(\"Classification Report is:\\n\",classification_report(y_test,y_pred))\n",
    "print(\"Confusion Matrix:\\n\",confusion_matrix(y_test,y_pred))\n",
    "print(\"Training Score:\\n\",etc.score(x_train,y_train)*100)\n",
    "print(\"Mean Squared Error:\\n\",mean_squared_error(y_test,y_pred))\n",
    "print(\"R2 score is:\\n\",r2_score(y_test,y_pred))"
   ]
  },
  {
   "cell_type": "code",
   "execution_count": null,
   "metadata": {
    "colab": {
     "base_uri": "https://localhost:8080/"
    },
    "id": "tz_ZFifjB142",
    "outputId": "451e8640-d6f2-4aba-956a-6f113826e938"
   },
   "outputs": [],
   "source": [
    "lgmacc=(accuracy_score(y_test,y_pred)*100)\n",
    "print(lgmacc)"
   ]
  },
  {
   "cell_type": "code",
   "execution_count": null,
   "metadata": {
    "colab": {
     "base_uri": "https://localhost:8080/",
     "height": 312
    },
    "id": "1X5giQwjB2C2",
    "outputId": "66fe7a61-ae4d-494f-e3c5-2053ac9c94c4"
   },
   "outputs": [],
   "source": [
    "ypred = lgbm.predict(x_test)\n",
    "from sklearn import metrics\n",
    "cnf_matrix = metrics.confusion_matrix(y_test, y_pred)\n",
    "p = sns.heatmap(pd.DataFrame(cnf_matrix), annot=True, cmap=\"YlGnBu\" ,fmt='g')\n",
    "plt.title('Confusion matrix LGBM', y=1.1)\n",
    "plt.ylabel('Actual label')\n",
    "plt.xlabel('Predicted label')"
   ]
  },
  {
   "cell_type": "code",
   "execution_count": null,
   "metadata": {
    "colab": {
     "base_uri": "https://localhost:8080/",
     "height": 269
    },
    "id": "W78SqHTFxv9m",
    "outputId": "ea2d9659-818f-45bb-b1da-1896027a86a7"
   },
   "outputs": [],
   "source": [
    "pd.DataFrame(lgbm.feature_importances_,\n",
    "             index=x_train.columns, columns=['Importance']).sort_values(\n",
    "    by='Importance', ascending=False)[:10]"
   ]
  },
  {
   "cell_type": "code",
   "execution_count": null,
   "metadata": {
    "id": "ps-qnGNWHwfR"
   },
   "outputs": [],
   "source": [
    "classifiers = [('LogisticRegression', reg), ('KNeighborsClassifier', knn),('SVC', svc), ('GaussianNB', gnb), ('DecisionTreeClassifier', dtree), ('RandomForestClassifier', rfc), ('AdaBoostClassifier', adb) , ('GradientBoostingClassifier', gbc), ('XGBClassifier', xgb), ('ExtraTreesClassifier', etc), ('CatBoostClassifier', cat),('LGBMClassifier',lgbm)] "
   ]
  },
  {
   "cell_type": "code",
   "execution_count": null,
   "metadata": {
    "colab": {
     "base_uri": "https://localhost:8080/"
    },
    "id": "moFRrnGYE7bO",
    "outputId": "75a19219-f5c1-461a-c528-2a6bb7416217"
   },
   "outputs": [],
   "source": [
    "vc = VotingClassifier(estimators = classifiers)\n",
    "vc.fit(x_train, y_train)\n"
   ]
  },
  {
   "cell_type": "code",
   "execution_count": null,
   "metadata": {
    "colab": {
     "base_uri": "https://localhost:8080/"
    },
    "id": "RDTDr2YtJbga",
    "outputId": "561575ae-bd72-4c7f-c549-7a077dc9512c"
   },
   "outputs": [],
   "source": [
    "vcacc=(accuracy_score(y_test,y_pred)*100)\n",
    "print(vcacc)"
   ]
  },
  {
   "cell_type": "code",
   "execution_count": null,
   "metadata": {
    "colab": {
     "base_uri": "https://localhost:8080/",
     "height": 380
    },
    "id": "1UfG5R-0JAMg",
    "outputId": "9f23f7fc-3040-49f3-bcf8-1cdc09e92986"
   },
   "outputs": [],
   "source": [
    "ypred = vc.predict(x_test)\n",
    "from sklearn import metrics\n",
    "cnf_matrix = metrics.confusion_matrix(y_test, y_pred)\n",
    "p = sns.heatmap(pd.DataFrame(cnf_matrix), annot=True, cmap=\"YlGnBu\" ,fmt='g')\n",
    "plt.title('Confusion matrix LGBM', y=1.1)\n",
    "plt.ylabel('Actual label')\n",
    "plt.xlabel('Predicted label')"
   ]
  },
  {
   "cell_type": "code",
   "execution_count": null,
   "metadata": {
    "colab": {
     "base_uri": "https://localhost:8080/",
     "height": 424
    },
    "id": "Kg7Qq0VnabNa",
    "outputId": "507b7e05-4702-42c6-9c9b-7aaa3fe71cdb"
   },
   "outputs": [],
   "source": [
    "data = pd.DataFrame({'Actual': y_test, 'Predicted': y_pred})\n",
    "data\n"
   ]
  },
  {
   "cell_type": "code",
   "execution_count": null,
   "metadata": {
    "colab": {
     "base_uri": "https://localhost:8080/",
     "height": 426
    },
    "id": "X0rd4e7gsO3V",
    "outputId": "ca4a94e5-bbaf-485f-9afc-eac9b77f862d"
   },
   "outputs": [],
   "source": [
    "d = {'Model': ['Logistic Regression', 'KNeighbors Classifier', \"SVC\", \"Naiye Bayes\", 'Decision Tree Classifier', 'Random Forest Classifier', 'Ada Boost Classifier', 'Gradient Boosting Classifier',\"XGB Classifier\",\"Extra Trees Classifier\",\"Cat Boost Classifier\",\"LGBMClassifier\"],\n",
    "     'accuracy' : [LRacc,knnacc,svcacc,gnbacc,dtacc,rfacc,adabacc,gbcacc,xbgacc,etcacc,catacc,lgmacc]}\n",
    "\n",
    "\n",
    "result_df = pd.DataFrame(data = d,)\n",
    "result_df.sort_values(by = 'accuracy', ascending = False)"
   ]
  },
  {
   "cell_type": "code",
   "execution_count": null,
   "metadata": {
    "colab": {
     "base_uri": "https://localhost:8080/",
     "height": 497
    },
    "id": "2Er4scrkQhgC",
    "outputId": "2a523738-a870-4d08-a990-403c634784b0"
   },
   "outputs": [],
   "source": [
    "plt.figure(figsize = (12, 8))\n",
    "\n",
    "sns.barplot(x = 'accuracy' ,y= 'Model', data = result_df)\n",
    "plt.show()"
   ]
  },
  {
   "cell_type": "code",
   "execution_count": null,
   "metadata": {
    "id": "tUZ0o9f0Fab7"
   },
   "outputs": [],
   "source": [
    "import seaborn as sb\n",
    "import matplotlib.pyplot as plt\n",
    "%matplotlib inline\n",
    "from sklearn.linear_model import LogisticRegression\n",
    "from sklearn.svm import SVC\n",
    "from sklearn.naive_bayes import GaussianNB\n",
    "from sklearn.ensemble import RandomForestClassifier\n",
    "from sklearn.ensemble import AdaBoostClassifier\n",
    "import sklearn.metrics\n",
    "from sklearn import preprocessing\n",
    "from sklearn.model_selection import train_test_split\n",
    "from sklearn.metrics import accuracy_score\n",
    "from sklearn.metrics import plot_confusion_matrix\n",
    "from sklearn.preprocessing import label_binarize\n",
    "from sklearn.multiclass import OneVsRestClassifier\n",
    "from sklearn.metrics import roc_curve, auc\n",
    "from sklearn.metrics import roc_auc_score\n",
    "from scipy import interp\n",
    "from itertools import cycle\n",
    "from yellowbrick.classifier import ConfusionMatrix\n",
    "from yellowbrick.classifier import ClassificationReport\n",
    "from yellowbrick.classifier import ROCAUC\n",
    "from yellowbrick.classifier import DiscriminationThreshold\n",
    "from yellowbrick.classifier import PrecisionRecallCurve\n",
    "import warnings"
   ]
  },
  {
   "cell_type": "code",
   "execution_count": null,
   "metadata": {
    "id": "t2aSc3hlCCNr"
   },
   "outputs": [],
   "source": [
    "\n",
    "!pip install -U scikit-learn"
   ]
  },
  {
   "cell_type": "code",
   "execution_count": null,
   "metadata": {
    "id": "ePxzK4ogCCYI"
   },
   "outputs": [],
   "source": [
    "import sklearn\n",
    "sklearn.__version__"
   ]
  },
  {
   "cell_type": "code",
   "execution_count": null,
   "metadata": {
    "colab": {
     "base_uri": "https://localhost:8080/"
    },
    "id": "CCr2MpO1Esyv",
    "outputId": "d81b2857-dbc6-4504-a8d7-048ac87f7889"
   },
   "outputs": [],
   "source": [
    "from sklearn.multiclass import OneVsRestClassifier\n",
    "from sklearn.ensemble import ExtraTreesClassifier\n",
    "from catboost import CatBoostClassifier\n",
    "from lightgbm import LGBMClassifier\n",
    "from sklearn.ensemble import RandomForestClassifier\n",
    "\n",
    "from sklearn.metrics import roc_curve, roc_auc_score\n",
    "from sklearn.metrics import make_scorer\n",
    "y_pred_prob1 =etc.predict_proba(x_test)\n",
    "roc_auc1=roc_auc_score(y_test, y_pred_prob1,multi_class=\"ovr\",average='macro')\n",
    "roc_auc1\n"
   ]
  },
  {
   "cell_type": "code",
   "execution_count": null,
   "metadata": {
    "colab": {
     "base_uri": "https://localhost:8080/"
    },
    "id": "i4X5mggWGv1h",
    "outputId": "4a7ec87a-ffc2-4a1c-a0d9-63d629b7bbb7"
   },
   "outputs": [],
   "source": [
    "y_pred_prob2 = cat.predict_proba(x_test)\n",
    "roc_auc2=roc_auc_score(y_test, y_pred_prob2,multi_class=\"ovr\",average='macro')\n",
    "roc_auc2"
   ]
  },
  {
   "cell_type": "code",
   "execution_count": null,
   "metadata": {
    "colab": {
     "base_uri": "https://localhost:8080/"
    },
    "id": "bd-YCDd5Gv5B",
    "outputId": "20631542-9bf1-4fc1-d8b4-5ee2cca8f98a"
   },
   "outputs": [],
   "source": [
    "y_pred_prob3 = lgbm.predict_proba(x_test)\n",
    "roc_auc3=roc_auc_score(y_test, y_pred_prob3,multi_class=\"ovr\",average='macro')\n",
    "roc_auc3"
   ]
  },
  {
   "cell_type": "code",
   "execution_count": null,
   "metadata": {
    "colab": {
     "base_uri": "https://localhost:8080/"
    },
    "id": "ydL9NAMJGv72",
    "outputId": "9887bd60-98e4-4a57-f187-1288d09ac179"
   },
   "outputs": [],
   "source": [
    "y_pred_prob4 = rfc.predict_proba(x_test)\n",
    "roc_auc4=roc_auc_score(y_test, y_pred_prob4,multi_class=\"ovr\",average='macro')\n",
    "roc_auc4"
   ]
  },
  {
   "cell_type": "code",
   "execution_count": null,
   "metadata": {},
   "outputs": [],
   "source": [
    "from sklearn.multiclass import OneVsRestClassifier\n",
    "from sklearn.ensemble import ExtraTreesClassifier\n",
    "from catboost import CatBoostClassifier\n",
    "from lightgbm import LGBMClassifier\n",
    "from sklearn.ensemble import RandomForestClassifier\n",
    "\n",
    "from sklearn.metrics import roc_curve, roc_auc_score\n",
    "from sklearn.metrics import make_scorer\n",
    "y_pred_prob1 =etc.predict_proba(x_test)[:,1]\n",
    "#roc_auc1=roc_auc_score(y_test, y_pred_prob1,multi_class=\"ovr\",average='macro')\n",
    "fpr1 , tpr1, thresholds1 = roc_curve(y_test, y_pred_prob1,pos_label=0)\n",
    "\n",
    "y_pred_prob2 = cat.predict_proba(x_test)[:,1]\n",
    "#roc_auc2=roc_auc_score(y_test, y_pred_prob2,multi_class=\"ovr\",average='macro')\n",
    "fpr2 , tpr2, thresholds2 = roc_curve(y_test, y_pred_prob2,pos_label=1)\n",
    "\n",
    "\n",
    "y_pred_prob3 = lgbm.predict_proba(x_test)[:,1]\n",
    "#roc_auc3=roc_auc_score(y_test, y_pred_prob3,multi_class=\"ovr\",average='macro')\n",
    "fpr3 , tpr3, thresholds3 = roc_curve(y_test, y_pred_prob3,pos_label=1)\n",
    "\n",
    "y_pred_prob4 = rfc.predict_proba(x_test)[:,1]\n",
    "#roc_auc4=roc_auc_score(y_test, y_pred_prob4,multi_class=\"ovr\",average='macro')\n",
    "fpr4 , tpr4, thresholds4 = roc_curve(y_test, y_pred_prob4,pos_label=1)\n",
    "\n",
    "\n",
    "plt.plot([0,1],[0,1], 'k--')\n",
    "plt.plot(fpr1, tpr1, label= \"Extra Tree Classifier (AUC = %0.2f)\" % roc_auc1)\n",
    "plt.plot(fpr2, tpr2, label= \"CatBoost Classifier (AUC = %0.2f)\" % roc_auc2)\n",
    "plt.plot(fpr3, tpr3, label= \"Ligth GBM Classifier (AUC= %0.2f)\" % roc_auc3)\n",
    "plt.plot(fpr4, tpr4, label= \"Random Forest Classifier (AUC = %0.2f)\" % roc_auc4)\n",
    "plt.legend()\n",
    "plt.xlabel(\"False Postive Rate\")\n",
    "plt.ylabel(\"True Postive Rate\")\n",
    "plt.title('ROC of Four Models Oversampling Class Balance')\n",
    "plt.show()\n"
   ]
  },
  {
   "cell_type": "code",
   "execution_count": null,
   "metadata": {},
   "outputs": [],
   "source": []
  },
  {
   "cell_type": "code",
   "execution_count": null,
   "metadata": {},
   "outputs": [],
   "source": []
  },
  {
   "cell_type": "code",
   "execution_count": null,
   "metadata": {},
   "outputs": [],
   "source": []
  }
 ],
 "metadata": {
  "colab": {
   "collapsed_sections": [],
   "name": "ML oversampled ACL  .ipynb",
   "provenance": []
  },
  "kernelspec": {
   "display_name": "Python 3 (ipykernel)",
   "language": "python",
   "name": "python3"
  },
  "language_info": {
   "codemirror_mode": {
    "name": "ipython",
    "version": 3
   },
   "file_extension": ".py",
   "mimetype": "text/x-python",
   "name": "python",
   "nbconvert_exporter": "python",
   "pygments_lexer": "ipython3",
   "version": "3.9.7"
  }
 },
 "nbformat": 4,
 "nbformat_minor": 1
}
